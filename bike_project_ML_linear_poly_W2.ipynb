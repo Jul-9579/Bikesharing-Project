{
 "cells": [
  {
   "cell_type": "code",
   "execution_count": 1,
   "metadata": {},
   "outputs": [],
   "source": [
    "import pandas as pd\n",
    "import numpy as np\n",
    "import matplotlib.pyplot as plt\n",
    "\n",
    "pd.set_option('display.max_columns', None)\n",
    "pd.set_option('display.max_rows', 10)"
   ]
  },
  {
   "cell_type": "code",
   "execution_count": null,
   "metadata": {},
   "outputs": [],
   "source": [
    "df = pd.read_csv(r'C:\\Users\\raclo\\Documents\\Bootcamp\\Project 3\\fdf_gdf.csv', low_memory=False, sep=\",\")"
   ]
  },
  {
   "cell_type": "code",
   "execution_count": 3,
   "metadata": {},
   "outputs": [],
   "source": [
    "# Convert categorical columns to category type for memory efficiency\n",
    "df[\"rideable_type\"] = df[\"rideable_type\"].astype(\"category\")\n",
    "df[\"start_station_name\"] = df[\"start_station_name\"].astype(\"category\")\n",
    "df[\"end_station_name\"] = df[\"end_station_name\"].astype(\"category\")\n",
    "df[\"member_casual\"] = df[\"member_casual\"].astype(\"category\")\n",
    "df[\"day_of_week\"] = df[\"day_of_week\"].astype(\"category\")\n",
    "df[\"holiday\"] = df[\"holiday\"].astype(\"category\")\n",
    "\n",
    "# Convert started_at and ended_at to datetime for memory efficiency\n",
    "df['started_at'] = pd.to_datetime(df['started_at'])\n",
    "df['ended_at'] = pd.to_datetime(df['ended_at'])\n",
    "\n",
    "df[\"holiday\"] = df[\"holiday\"].astype(\"category\")\n",
    "\n",
    "df['month'] = df['month'].astype('int32')\n",
    "\n",
    "df[\"ride_duration\"] = pd.to_timedelta(df[\"ride_duration\"])"
   ]
  },
  {
   "cell_type": "code",
   "execution_count": 4,
   "metadata": {},
   "outputs": [],
   "source": [
    "df_w2 = df[df['start_ward'] == 2]"
   ]
  },
  {
   "cell_type": "code",
   "execution_count": 5,
   "metadata": {},
   "outputs": [
    {
     "name": "stdout",
     "output_type": "stream",
     "text": [
      "Number of rows with start_station_id = 0: 11791\n"
     ]
    }
   ],
   "source": [
    "zero_rows = (df_w2['start_station_id'] == 0).sum()\n",
    "print(f\"Number of rows with start_station_id = 0: {zero_rows}\")"
   ]
  },
  {
   "cell_type": "code",
   "execution_count": 6,
   "metadata": {},
   "outputs": [],
   "source": [
    "# Remove the rows where start_station_id == 0\n",
    "df_w2 = df_w2[df_w2['start_station_id'] != 0]\n"
   ]
  },
  {
   "cell_type": "code",
   "execution_count": 7,
   "metadata": {},
   "outputs": [],
   "source": [
    "# Create a copy of df_w2\n",
    "df_w2 = df_w2.copy()"
   ]
  },
  {
   "cell_type": "code",
   "execution_count": 8,
   "metadata": {},
   "outputs": [
    {
     "name": "stdout",
     "output_type": "stream",
     "text": [
      "     ride_id  rideable_type          started_at            ended_at  \\\n",
      "3    8494852   classic_bike 2023-07-21 21:31:20 2023-07-21 21:38:29   \n",
      "5    8006328  electric_bike 2023-06-18 00:26:26 2023-06-18 00:37:54   \n",
      "8    9276322   classic_bike 2023-09-11 18:01:16 2023-09-11 18:20:19   \n",
      "16  10564381   classic_bike 2023-12-14 17:54:03 2023-12-14 19:01:34   \n",
      "18   8832736   classic_bike 2023-08-13 13:45:19 2023-08-13 13:52:44   \n",
      "\n",
      "                start_station_name  start_station_id  \\\n",
      "3   New Hampshire Ave & Ward Pl NW           31212.0   \n",
      "5        13th St & New York Ave NW           31227.0   \n",
      "8                    8th & H St NW           31228.0   \n",
      "16                  19th & G St NW           31279.0   \n",
      "18      M St & Pennsylvania Ave NW           31246.0   \n",
      "\n",
      "                          end_station_name  end_station_id  start_lat  \\\n",
      "3                           16th & R St NW         31282.0  38.905711   \n",
      "5                     16th & Harvard St NW         31135.0  38.900273   \n",
      "8           New Hampshire Ave & 24th St NW         31275.0  38.899700   \n",
      "16     Broad Branch Rd & Northampton St NW         31422.0  38.898412   \n",
      "18  37th & O St NW / Georgetown University         31236.0  38.905126   \n",
      "\n",
      "    start_lng    end_lat    end_lng member_casual  distance  month  year  \\\n",
      "3  -77.047318  38.912652 -77.036278        casual  1.228064      7  2023   \n",
      "5  -77.029905  38.926102 -77.036650        member  2.930742      6  2023   \n",
      "8  -77.023086  38.901755 -77.051084        casual  2.433581      9  2023   \n",
      "16 -77.043182  38.965775 -77.068626        member  7.807068     12  2023   \n",
      "18 -77.056887  38.907837 -77.071660        member  1.313353      8  2023   \n",
      "\n",
      "    season  day_of_week  holiday  is_weekend   ride_duration  start_ward  \\\n",
      "3        1            4        1           1 0 days 00:07:09           2   \n",
      "5        1            6        1           0 0 days 00:11:28           2   \n",
      "8        2            0        1           1 0 days 00:19:03           2   \n",
      "16       3            3        1           1 0 days 01:07:31           2   \n",
      "18       1            6        1           0 0 days 00:07:25           2   \n",
      "\n",
      "    end_ward  ride_duration_min  \n",
      "3          2           7.150000  \n",
      "5          1          11.466667  \n",
      "8          2          19.050000  \n",
      "16         3          67.516667  \n",
      "18         2           7.416667  \n"
     ]
    }
   ],
   "source": [
    "# Manual encoding\n",
    "import numpy as np\n",
    "import pandas as pd\n",
    "from sklearn.preprocessing import LabelEncoder\n",
    "\n",
    "# Copy DataFrame to avoid modifying original\n",
    "df_encoded = df_w2.copy()\n",
    "\n",
    "# Convert categorical columns to string (avoids mixed-type errors)\n",
    "df_encoded[['day_of_week', 'holiday', 'is_weekend', 'season']] = df_encoded[['day_of_week', 'holiday', 'is_weekend', 'season']].astype(str)\n",
    "\n",
    "### 1️⃣ Manually Encode 'holiday' and 'is_weekend' ###\n",
    "df_encoded['holiday'] = df_encoded['holiday'].map({'Yes': 0, 'No': 1})\n",
    "df_encoded['is_weekend'] = df_encoded['is_weekend'].map({'Yes': 0, 'No': 1})\n",
    "\n",
    "### 2️⃣ Label Encode 'day_of_week' ###\n",
    "day_mapping = {'Monday': 0, 'Tuesday': 1, 'Wednesday': 2, 'Thursday': 3, 'Friday': 4, 'Saturday': 5, 'Sunday': 6}\n",
    "df_encoded['day_of_week'] = df_encoded['day_of_week'].map(day_mapping)\n",
    "\n",
    "### 3️⃣ Label Encode 'season' ###\n",
    "season_mapping = {'Spring': 0, 'Summer': 1, 'Autumn': 2, 'Winter': 3}\n",
    "df_encoded['season'] = df_encoded['season'].map(season_mapping)\n",
    "\n",
    "# ✅ Final DataFrame Preview\n",
    "print(df_encoded.head())\n"
   ]
  },
  {
   "cell_type": "code",
   "execution_count": 9,
   "metadata": {},
   "outputs": [
    {
     "name": "stdout",
     "output_type": "stream",
     "text": [
      "<class 'pandas.core.frame.DataFrame'>\n",
      "Index: 343352 entries, 3 to 839782\n",
      "Data columns (total 16 columns):\n",
      " #   Column             Non-Null Count   Dtype  \n",
      "---  ------             --------------   -----  \n",
      " 0   ride_id            343352 non-null  int64  \n",
      " 1   start_station_id   343352 non-null  float64\n",
      " 2   end_station_id     343352 non-null  float64\n",
      " 3   start_lat          343352 non-null  float64\n",
      " 4   start_lng          343352 non-null  float64\n",
      " 5   end_lat            343352 non-null  float64\n",
      " 6   end_lng            343352 non-null  float64\n",
      " 7   distance           343352 non-null  float64\n",
      " 8   year               343352 non-null  int64  \n",
      " 9   season             343352 non-null  int64  \n",
      " 10  day_of_week        343352 non-null  int64  \n",
      " 11  holiday            343352 non-null  int64  \n",
      " 12  is_weekend         343352 non-null  int64  \n",
      " 13  start_ward         343352 non-null  int64  \n",
      " 14  end_ward           343352 non-null  int64  \n",
      " 15  ride_duration_min  343352 non-null  float64\n",
      "dtypes: float64(8), int64(8)\n",
      "memory usage: 44.5 MB\n"
     ]
    }
   ],
   "source": [
    "df_numeric = df_encoded.select_dtypes(include=['float', 'int64']).dropna().copy()\n",
    "df_numeric.info()"
   ]
  },
  {
   "cell_type": "code",
   "execution_count": 10,
   "metadata": {},
   "outputs": [],
   "source": [
    "# Convert datetime columns (started_at and ended_at) to datetime64 format.\n",
    "import pandas as pd\n",
    "\n",
    "# Ensure datetime format\n",
    "df_encoded['started_at'] = pd.to_datetime(df_encoded['started_at'])\n",
    "df_encoded['ended_at'] = pd.to_datetime(df_encoded['ended_at'])\n",
    "\n",
    "# Extract hours\n",
    "df_encoded['start_hour'] = df_encoded['started_at'].dt.hour"
   ]
  },
  {
   "cell_type": "code",
   "execution_count": 11,
   "metadata": {},
   "outputs": [],
   "source": [
    "# Ensure the 'start_hour' column exists in the DataFrame\n",
    "if 'start_hour' not in df_encoded.columns:\n",
    "    # Extract the hour from the 'started_at' column\n",
    "    df_encoded['start_hour'] = df_encoded['started_at'].dt.hour\n",
    "\n",
    "# Ensure all selected columns exist in the DataFrame\n",
    "required_columns = [\"end_ward\",\n",
    "                    \"started_at\",\n",
    "                    \"start_hour\",\n",
    "                    'day_of_week',\n",
    "                    'month',\n",
    "                    'holiday',\n",
    "                    'is_weekend',\n",
    "                    'season'\n",
    "                    ]\n",
    "\n",
    "missing_columns = [col for col in required_columns if col not in df_encoded.columns]\n",
    "if missing_columns:\n",
    "    raise ValueError(f\"The following required columns are missing in the DataFrame: {missing_columns}\")\n",
    "\n",
    "# Select features to predict bike rides\n",
    "df_select = df_encoded[required_columns]\n"
   ]
  },
  {
   "cell_type": "code",
   "execution_count": 12,
   "metadata": {},
   "outputs": [],
   "source": [
    "# Create a copy of df_select\n",
    "df_select = df_select.copy()"
   ]
  },
  {
   "cell_type": "code",
   "execution_count": 13,
   "metadata": {},
   "outputs": [
    {
     "name": "stdout",
     "output_type": "stream",
     "text": [
      "           date  ride_count  end_ward  month  day_of_week  holiday  \\\n",
      "0    2023-01-01         510         2      1            6        0   \n",
      "1    2023-01-02         571         2      1            0        0   \n",
      "2    2023-01-03         631         1      1            1        1   \n",
      "3    2023-01-04         676         2      1            2        1   \n",
      "4    2023-01-05         715         2      1            3        1   \n",
      "..          ...         ...       ...    ...          ...      ...   \n",
      "360  2023-12-27         166         2     12            2        1   \n",
      "361  2023-12-28         560         6     12            3        1   \n",
      "362  2023-12-29         640         2     12            4        1   \n",
      "363  2023-12-30         461         2     12            5        1   \n",
      "364  2023-12-31         416         6     12            6        1   \n",
      "\n",
      "     is_weekend  season  \n",
      "0             0       3  \n",
      "1             1       3  \n",
      "2             1       3  \n",
      "3             1       3  \n",
      "4             1       3  \n",
      "..          ...     ...  \n",
      "360           1       3  \n",
      "361           1       3  \n",
      "362           1       3  \n",
      "363           0       3  \n",
      "364           0       3  \n",
      "\n",
      "[365 rows x 8 columns]\n"
     ]
    }
   ],
   "source": [
    "# Ensure the 'date' column exists in df_select\n",
    "df_select['date'] = df_select['started_at'].dt.date\n",
    "\n",
    "# Aggregate the data by date\n",
    "df_daily = df_select.groupby('date', as_index=False).agg(\n",
    "    ride_count=('started_at', 'count'),\n",
    "    # start_ward=('start_ward', 'first'),  \n",
    "    end_ward=('end_ward', 'first'),\n",
    "    month=('month', 'first'),\n",
    "    day_of_week=('day_of_week', 'first'),\n",
    "    holiday=('holiday', 'max'),  # If any ride that day was on a holiday, keep 1\n",
    "    is_weekend=('is_weekend', 'max'),  # If any ride was on a weekend, keep 1\n",
    "    season=('season', 'first')  \n",
    ")\n",
    "\n",
    "print(df_daily)"
   ]
  },
  {
   "cell_type": "code",
   "execution_count": 14,
   "metadata": {},
   "outputs": [],
   "source": [
    "from sklearn.linear_model import LinearRegression"
   ]
  },
  {
   "cell_type": "code",
   "execution_count": 15,
   "metadata": {},
   "outputs": [
    {
     "name": "stdout",
     "output_type": "stream",
     "text": [
      "(365, 7)\n",
      "(365,)\n"
     ]
    }
   ],
   "source": [
    "multivariate = df_daily.drop('ride_count',axis='columns')\n",
    "ride_count = df_daily[\"ride_count\"]\n",
    "\n",
    "print(multivariate.shape)\n",
    "print(ride_count.shape)"
   ]
  },
  {
   "cell_type": "code",
   "execution_count": 16,
   "metadata": {},
   "outputs": [
    {
     "data": {
      "text/plain": [
       "date           object\n",
       "ride_count      int64\n",
       "end_ward        int64\n",
       "month           int32\n",
       "day_of_week     int64\n",
       "holiday         int64\n",
       "is_weekend      int64\n",
       "season          int64\n",
       "dtype: object"
      ]
     },
     "execution_count": 16,
     "metadata": {},
     "output_type": "execute_result"
    }
   ],
   "source": [
    "df_daily.dtypes"
   ]
  },
  {
   "cell_type": "code",
   "execution_count": 17,
   "metadata": {},
   "outputs": [
    {
     "data": {
      "image/png": "[encoded data removed]",
      "text/plain": [
       "<Figure size 1200x800 with 2 Axes>"
      ]
     },
     "metadata": {},
     "output_type": "display_data"
    }
   ],
   "source": [
    "import seaborn as sns\n",
    "\n",
    "plt.figure(figsize=(12,8))\n",
    "\n",
    "# Select only numeric columns for correlation\n",
    "numeric_df = df_daily.select_dtypes(include=['float64', 'int64', 'int32'])\n",
    "corr = numeric_df.corr()\n",
    "\n",
    "# Create a mask for the upper triangle\n",
    "matrix = np.triu(corr)\n",
    "\n",
    "# Plot the heatmap\n",
    "sns.heatmap(corr, annot=True, mask=matrix, vmin=-1, vmax=1, cmap='seismic')\n",
    "plt.show()"
   ]
  },
  {
   "cell_type": "code",
   "execution_count": 18,
   "metadata": {},
   "outputs": [],
   "source": [
    "hdf = pd.read_csv(r'C:\\Users\\raclo\\Documents\\Bootcamp\\Project 3\\cbs_hourly_modified.csv', sep=\",\")"
   ]
  },
  {
   "cell_type": "code",
   "execution_count": 19,
   "metadata": {},
   "outputs": [],
   "source": [
    "df_daily['date'] = pd.to_datetime(df_daily['date'])\n",
    "hdf['date'] = pd.to_datetime(hdf['date'])"
   ]
  },
  {
   "cell_type": "code",
   "execution_count": 20,
   "metadata": {},
   "outputs": [],
   "source": [
    "# Ensure the 'date' column is a datetime\n",
    "hdf['date'] = pd.to_datetime(hdf['date'])\n",
    "\n",
    "# Aggregate hdf to daily values by taking the mean for the desired columns\n",
    "hdf_daily = hdf.groupby('date', as_index=False).agg(\n",
    "    relativehumidity=('relativehumidity', 'mean'),\n",
    "    temperature=('temperature', 'mean'),\n",
    "    windspeed=('windspeed', 'mean')\n",
    ")"
   ]
  },
  {
   "cell_type": "code",
   "execution_count": 21,
   "metadata": {},
   "outputs": [
    {
     "data": {
      "text/html": [
       "<div>\n",
       "<style scoped>\n",
       "    .dataframe tbody tr th:only-of-type {\n",
       "        vertical-align: middle;\n",
       "    }\n",
       "\n",
       "    .dataframe tbody tr th {\n",
       "        vertical-align: top;\n",
       "    }\n",
       "\n",
       "    .dataframe thead th {\n",
       "        text-align: right;\n",
       "    }\n",
       "</style>\n",
       "<table border=\"1\" class=\"dataframe\">\n",
       "  <thead>\n",
       "    <tr style=\"text-align: right;\">\n",
       "      <th></th>\n",
       "      <th>date</th>\n",
       "      <th>ride_count</th>\n",
       "      <th>end_ward</th>\n",
       "      <th>month</th>\n",
       "      <th>day_of_week</th>\n",
       "      <th>holiday</th>\n",
       "      <th>is_weekend</th>\n",
       "      <th>season</th>\n",
       "      <th>relativehumidity</th>\n",
       "      <th>temperature</th>\n",
       "      <th>windspeed</th>\n",
       "    </tr>\n",
       "  </thead>\n",
       "  <tbody>\n",
       "    <tr>\n",
       "      <th>0</th>\n",
       "      <td>2023-01-01</td>\n",
       "      <td>510</td>\n",
       "      <td>2</td>\n",
       "      <td>1</td>\n",
       "      <td>6</td>\n",
       "      <td>0</td>\n",
       "      <td>0</td>\n",
       "      <td>3</td>\n",
       "      <td>83.375000</td>\n",
       "      <td>10.458333</td>\n",
       "      <td>9.466667</td>\n",
       "    </tr>\n",
       "    <tr>\n",
       "      <th>1</th>\n",
       "      <td>2023-01-02</td>\n",
       "      <td>571</td>\n",
       "      <td>2</td>\n",
       "      <td>1</td>\n",
       "      <td>0</td>\n",
       "      <td>0</td>\n",
       "      <td>1</td>\n",
       "      <td>3</td>\n",
       "      <td>83.375000</td>\n",
       "      <td>10.745833</td>\n",
       "      <td>7.525000</td>\n",
       "    </tr>\n",
       "    <tr>\n",
       "      <th>2</th>\n",
       "      <td>2023-01-03</td>\n",
       "      <td>631</td>\n",
       "      <td>1</td>\n",
       "      <td>1</td>\n",
       "      <td>1</td>\n",
       "      <td>1</td>\n",
       "      <td>1</td>\n",
       "      <td>3</td>\n",
       "      <td>89.541667</td>\n",
       "      <td>14.229167</td>\n",
       "      <td>13.316667</td>\n",
       "    </tr>\n",
       "    <tr>\n",
       "      <th>3</th>\n",
       "      <td>2023-01-04</td>\n",
       "      <td>676</td>\n",
       "      <td>2</td>\n",
       "      <td>1</td>\n",
       "      <td>2</td>\n",
       "      <td>1</td>\n",
       "      <td>1</td>\n",
       "      <td>3</td>\n",
       "      <td>91.250000</td>\n",
       "      <td>15.962500</td>\n",
       "      <td>11.308333</td>\n",
       "    </tr>\n",
       "    <tr>\n",
       "      <th>4</th>\n",
       "      <td>2023-01-05</td>\n",
       "      <td>715</td>\n",
       "      <td>2</td>\n",
       "      <td>1</td>\n",
       "      <td>3</td>\n",
       "      <td>1</td>\n",
       "      <td>1</td>\n",
       "      <td>3</td>\n",
       "      <td>83.500000</td>\n",
       "      <td>12.558333</td>\n",
       "      <td>7.295833</td>\n",
       "    </tr>\n",
       "    <tr>\n",
       "      <th>...</th>\n",
       "      <td>...</td>\n",
       "      <td>...</td>\n",
       "      <td>...</td>\n",
       "      <td>...</td>\n",
       "      <td>...</td>\n",
       "      <td>...</td>\n",
       "      <td>...</td>\n",
       "      <td>...</td>\n",
       "      <td>...</td>\n",
       "      <td>...</td>\n",
       "      <td>...</td>\n",
       "    </tr>\n",
       "    <tr>\n",
       "      <th>360</th>\n",
       "      <td>2023-12-27</td>\n",
       "      <td>166</td>\n",
       "      <td>2</td>\n",
       "      <td>12</td>\n",
       "      <td>2</td>\n",
       "      <td>1</td>\n",
       "      <td>1</td>\n",
       "      <td>3</td>\n",
       "      <td>52.000000</td>\n",
       "      <td>-4.350000</td>\n",
       "      <td>5.241667</td>\n",
       "    </tr>\n",
       "    <tr>\n",
       "      <th>361</th>\n",
       "      <td>2023-12-28</td>\n",
       "      <td>560</td>\n",
       "      <td>6</td>\n",
       "      <td>12</td>\n",
       "      <td>3</td>\n",
       "      <td>1</td>\n",
       "      <td>1</td>\n",
       "      <td>3</td>\n",
       "      <td>53.583333</td>\n",
       "      <td>-2.487500</td>\n",
       "      <td>7.650000</td>\n",
       "    </tr>\n",
       "    <tr>\n",
       "      <th>362</th>\n",
       "      <td>2023-12-29</td>\n",
       "      <td>640</td>\n",
       "      <td>2</td>\n",
       "      <td>12</td>\n",
       "      <td>4</td>\n",
       "      <td>1</td>\n",
       "      <td>1</td>\n",
       "      <td>3</td>\n",
       "      <td>57.791667</td>\n",
       "      <td>-3.904167</td>\n",
       "      <td>3.966667</td>\n",
       "    </tr>\n",
       "    <tr>\n",
       "      <th>363</th>\n",
       "      <td>2023-12-30</td>\n",
       "      <td>461</td>\n",
       "      <td>2</td>\n",
       "      <td>12</td>\n",
       "      <td>5</td>\n",
       "      <td>1</td>\n",
       "      <td>0</td>\n",
       "      <td>3</td>\n",
       "      <td>58.083333</td>\n",
       "      <td>-2.900000</td>\n",
       "      <td>7.933333</td>\n",
       "    </tr>\n",
       "    <tr>\n",
       "      <th>364</th>\n",
       "      <td>2023-12-31</td>\n",
       "      <td>416</td>\n",
       "      <td>6</td>\n",
       "      <td>12</td>\n",
       "      <td>6</td>\n",
       "      <td>1</td>\n",
       "      <td>0</td>\n",
       "      <td>3</td>\n",
       "      <td>59.125000</td>\n",
       "      <td>-4.637500</td>\n",
       "      <td>5.833333</td>\n",
       "    </tr>\n",
       "  </tbody>\n",
       "</table>\n",
       "<p>365 rows × 11 columns</p>\n",
       "</div>"
      ],
      "text/plain": [
       "          date  ride_count  end_ward  month  day_of_week  holiday  is_weekend  \\\n",
       "0   2023-01-01         510         2      1            6        0           0   \n",
       "1   2023-01-02         571         2      1            0        0           1   \n",
       "2   2023-01-03         631         1      1            1        1           1   \n",
       "3   2023-01-04         676         2      1            2        1           1   \n",
       "4   2023-01-05         715         2      1            3        1           1   \n",
       "..         ...         ...       ...    ...          ...      ...         ...   \n",
       "360 2023-12-27         166         2     12            2        1           1   \n",
       "361 2023-12-28         560         6     12            3        1           1   \n",
       "362 2023-12-29         640         2     12            4        1           1   \n",
       "363 2023-12-30         461         2     12            5        1           0   \n",
       "364 2023-12-31         416         6     12            6        1           0   \n",
       "\n",
       "     season  relativehumidity  temperature  windspeed  \n",
       "0         3         83.375000    10.458333   9.466667  \n",
       "1         3         83.375000    10.745833   7.525000  \n",
       "2         3         89.541667    14.229167  13.316667  \n",
       "3         3         91.250000    15.962500  11.308333  \n",
       "4         3         83.500000    12.558333   7.295833  \n",
       "..      ...               ...          ...        ...  \n",
       "360       3         52.000000    -4.350000   5.241667  \n",
       "361       3         53.583333    -2.487500   7.650000  \n",
       "362       3         57.791667    -3.904167   3.966667  \n",
       "363       3         58.083333    -2.900000   7.933333  \n",
       "364       3         59.125000    -4.637500   5.833333  \n",
       "\n",
       "[365 rows x 11 columns]"
      ]
     },
     "metadata": {},
     "output_type": "display_data"
    }
   ],
   "source": [
    "# Ensure 'date' in df_daily is also a datetime\n",
    "df_daily['date'] = pd.to_datetime(df_daily['date'])\n",
    "\n",
    "# Merge the daily aggregated dataframes on 'date'\n",
    "df_merged = df_daily.merge(hdf_daily, on='date', how='left')\n",
    "display(df_merged)"
   ]
  },
  {
   "cell_type": "code",
   "execution_count": 22,
   "metadata": {},
   "outputs": [],
   "source": [
    "# Drop unnecessary columns\n",
    "df_merged = df_merged.drop(columns=['date', 'month', 'day_of_week'])"
   ]
  },
  {
   "cell_type": "code",
   "execution_count": 23,
   "metadata": {},
   "outputs": [],
   "source": [
    "df_merged.rename(columns={'relativehumidity': 'humidity'}, inplace=True)"
   ]
  },
  {
   "cell_type": "markdown",
   "metadata": {},
   "source": [
    "## ML "
   ]
  },
  {
   "cell_type": "code",
   "execution_count": 24,
   "metadata": {},
   "outputs": [
    {
     "data": {
      "image/png": "[encoded data removed]",
      "text/plain": [
       "<Figure size 1000x600 with 2 Axes>"
      ]
     },
     "metadata": {},
     "output_type": "display_data"
    }
   ],
   "source": [
    "import seaborn as sns\n",
    "import numpy as np\n",
    "import matplotlib.pyplot as plt\n",
    "\n",
    "# Compute correlation matrix\n",
    "corr = df_merged.corr()\n",
    "\n",
    "# Create a mask for the upper triangle\n",
    "mask = np.triu(np.ones_like(corr, dtype=bool))\n",
    "\n",
    "# Plot heatmap\n",
    "plt.figure(figsize=(10, 6))\n",
    "sns.heatmap(corr, annot=True, mask=mask, vmin=-1, vmax=1, cmap='seismic')\n",
    "plt.title(\"Correlation Heatmap\")\n",
    "plt.show()\n"
   ]
  },
  {
   "cell_type": "code",
   "execution_count": 25,
   "metadata": {},
   "outputs": [],
   "source": [
    "# Convert 'season' to Categorical\n",
    "df_merged['season'] = df_merged['season'].astype('category')\n"
   ]
  },
  {
   "cell_type": "markdown",
   "metadata": {},
   "source": [
    "## 7 features: 'end_ward', 'holiday', 'is_weekend', 'season', 'humidity', 'temperature', 'windspeed'"
   ]
  },
  {
   "cell_type": "code",
   "execution_count": 28,
   "metadata": {},
   "outputs": [
    {
     "name": "stdout",
     "output_type": "stream",
     "text": [
      "📊 Feature Set 1 (All Features) - Linear Regression:\n",
      "R²: 0.5623772154826951\n",
      "MAE: 167.57169104421266\n",
      "MSE: 46777.909056579796\n",
      "RMSE: 216.282012790199\n",
      "\n",
      "📊 Feature Set 1 (All Features) - Polynomial Regression:\n",
      "R²: 0.5378465288670169\n",
      "MAE: 167.06977739726028\n",
      "MSE: 49400.017109910106\n",
      "RMSE: 222.26114619948783\n"
     ]
    }
   ],
   "source": [
    "from sklearn.model_selection import train_test_split\n",
    "from sklearn.linear_model import LinearRegression\n",
    "from sklearn.preprocessing import PolynomialFeatures, StandardScaler\n",
    "from sklearn.metrics import mean_absolute_error, mean_squared_error\n",
    "import numpy as np\n",
    "import pandas as pd\n",
    "\n",
    "# 🚀 Feature Selection 1: Use All Features\n",
    "X1 = df_merged.drop(columns=['ride_count'])  \n",
    "X1 = pd.get_dummies(X1, columns=['season'], drop_first=True)  # One-hot encode 'season'\n",
    "y = df_merged['ride_count']\n",
    "\n",
    "# 🎯 Split data for Feature Selection 1\n",
    "X1_train, X1_test, y_train, y_test = train_test_split(X1, y, test_size=0.2, random_state=42)\n",
    "\n",
    "# ✅ Train & Evaluate Model 1 (Linear)\n",
    "lin_reg1 = LinearRegression()\n",
    "lin_reg1.fit(X1_train, y_train)\n",
    "y_pred_lin1 = lin_reg1.predict(X1_test)\n",
    "\n",
    "r2_lin1 = lin_reg1.score(X1_test, y_test)\n",
    "mae_lin1 = mean_absolute_error(y_test, y_pred_lin1)\n",
    "mse_lin1 = mean_squared_error(y_test, y_pred_lin1)\n",
    "rmse_lin1 = np.sqrt(mse_lin1)\n",
    "\n",
    "print(f\"📊 Feature Set 1 (All Features) - Linear Regression:\")\n",
    "print(f\"R²: {r2_lin1}\")\n",
    "print(f\"MAE: {mae_lin1}\")\n",
    "print(f\"MSE: {mse_lin1}\")\n",
    "print(f\"RMSE: {rmse_lin1}\")\n",
    "\n",
    "# ✅ Train & Evaluate Model 1 (Polynomial)\n",
    "scaler1 = StandardScaler()\n",
    "X1_train_scaled = scaler1.fit_transform(X1_train)\n",
    "X1_test_scaled = scaler1.transform(X1_test)\n",
    "\n",
    "poly1 = PolynomialFeatures(degree=2)\n",
    "X1_poly_train = poly1.fit_transform(X1_train_scaled)\n",
    "X1_poly_test = poly1.transform(X1_test_scaled)\n",
    "\n",
    "poly_reg1 = LinearRegression()\n",
    "poly_reg1.fit(X1_poly_train, y_train)\n",
    "y_pred_poly1 = poly_reg1.predict(X1_poly_test)\n",
    "\n",
    "r2_poly1 = poly_reg1.score(X1_poly_test, y_test)\n",
    "mae_poly1 = mean_absolute_error(y_test, y_pred_poly1)\n",
    "mse_poly1 = mean_squared_error(y_test, y_pred_poly1)\n",
    "rmse_poly1 = np.sqrt(mse_poly1)\n",
    "\n",
    "print(f\"\\n📊 Feature Set 1 (All Features) - Polynomial Regression:\")\n",
    "print(f\"R²: {r2_poly1}\")\n",
    "print(f\"MAE: {mae_poly1}\")\n",
    "print(f\"MSE: {mse_poly1}\")\n",
    "print(f\"RMSE: {rmse_poly1}\")\n"
   ]
  },
  {
   "cell_type": "markdown",
   "metadata": {},
   "source": [
    "## 4 features: Drop 'end_ward', 'holiday', 'is_weekend'"
   ]
  },
  {
   "cell_type": "code",
   "execution_count": 29,
   "metadata": {},
   "outputs": [
    {
     "name": "stdout",
     "output_type": "stream",
     "text": [
      "\n",
      "📊 Feature Set 2 (Dropped Features) - Linear Regression:\n",
      "R²: 0.5368504411151477\n",
      "MAE: 171.336010853182\n",
      "MSE: 49506.489862056005\n",
      "RMSE: 222.5005390152033\n",
      "\n",
      "📊 Feature Set 2 (Dropped Features) - Polynomial Regression:\n",
      "R²: 0.5660151474264241\n",
      "MAE: 161.92139340753425\n",
      "MSE: 46389.04710597208\n",
      "RMSE: 215.3811670178525\n"
     ]
    }
   ],
   "source": [
    "# 🚀 Feature Selection 2: Drop end_ward, holiday, is_weekend\n",
    "columns_to_drop = ['end_ward', 'holiday', 'is_weekend']\n",
    "X2 = df_merged.drop(columns=[col for col in columns_to_drop if col in df_merged.columns] + ['ride_count'])\n",
    "X2 = pd.get_dummies(X2, columns=['season'], drop_first=True)  # One-hot encode 'season'\n",
    "\n",
    "# 🎯 Split data for Feature Selection 2\n",
    "X2_train, X2_test, y_train, y_test = train_test_split(X2, y, test_size=0.2, random_state=42)\n",
    "\n",
    "# ✅ Train & Evaluate Model 2 (Linear)\n",
    "lin_reg2 = LinearRegression()\n",
    "lin_reg2.fit(X2_train, y_train)\n",
    "y_pred_lin2 = lin_reg2.predict(X2_test)\n",
    "\n",
    "r2_lin2 = lin_reg2.score(X2_test, y_test)\n",
    "mae_lin2 = mean_absolute_error(y_test, y_pred_lin2)\n",
    "mse_lin2 = mean_squared_error(y_test, y_pred_lin2)\n",
    "rmse_lin2 = np.sqrt(mse_lin2)\n",
    "\n",
    "print(f\"\\n📊 Feature Set 2 (Dropped Features) - Linear Regression:\")\n",
    "print(f\"R²: {r2_lin2}\")\n",
    "print(f\"MAE: {mae_lin2}\")\n",
    "print(f\"MSE: {mse_lin2}\")\n",
    "print(f\"RMSE: {rmse_lin2}\")\n",
    "\n",
    "# ✅ Train & Evaluate Model 2 (Polynomial)\n",
    "scaler2 = StandardScaler()\n",
    "X2_train_scaled = scaler2.fit_transform(X2_train)\n",
    "X2_test_scaled = scaler2.transform(X2_test)\n",
    "\n",
    "poly2 = PolynomialFeatures(degree=2)\n",
    "X2_poly_train = poly2.fit_transform(X2_train_scaled)\n",
    "X2_poly_test = poly2.transform(X2_test_scaled)\n",
    "\n",
    "poly_reg2 = LinearRegression()\n",
    "poly_reg2.fit(X2_poly_train, y_train)\n",
    "y_pred_poly2 = poly_reg2.predict(X2_poly_test)\n",
    "\n",
    "r2_poly2 = poly_reg2.score(X2_poly_test, y_test)\n",
    "mae_poly2 = mean_absolute_error(y_test, y_pred_poly2)\n",
    "mse_poly2 = mean_squared_error(y_test, y_pred_poly2)\n",
    "rmse_poly2 = np.sqrt(mse_poly2)\n",
    "\n",
    "print(f\"\\n📊 Feature Set 2 (Dropped Features) - Polynomial Regression:\")\n",
    "print(f\"R²: {r2_poly2}\")\n",
    "print(f\"MAE: {mae_poly2}\")\n",
    "print(f\"MSE: {mse_poly2}\")\n",
    "print(f\"RMSE: {rmse_poly2}\")\n"
   ]
  },
  {
   "cell_type": "markdown",
   "metadata": {},
   "source": [
    "## 3 features: drop windspeed"
   ]
  },
  {
   "cell_type": "markdown",
   "metadata": {},
   "source": [
    "<!-- ## 3 features: Drop windspeed -->"
   ]
  },
  {
   "cell_type": "code",
   "execution_count": null,
   "metadata": {},
   "outputs": [
    {
     "name": "stdout",
     "output_type": "stream",
     "text": [
      "\n",
      "📊 Feature Set 3 (Dropped Windspeed) - Linear Regression:\n",
      "R²: 0.5474106849390217\n",
      "MAE: 168.5920231101421\n",
      "MSE: 48377.69551522292\n",
      "RMSE: 219.94930214761519\n",
      "\n",
      "📊 Feature Set 3 (Dropped Windspeed) - Polynomial Regression:\n",
      "R²: 0.6419389646453779\n",
      "MAE: 143.36772260273972\n",
      "MSE: 38273.479217947344\n",
      "RMSE: 195.63608874118125\n"
     ]
    }
   ],
   "source": [
    "# 🚀 Feature Selection 3: Drop windspeed\n",
    "X3 = df_merged.drop(columns=['ride_count', 'windspeed'])\n",
    "X3 = pd.get_dummies(X3, columns=['season'], drop_first=True)  # One-hot encode 'season'\n",
    "\n",
    "# 🎯 Split data for Feature Selection 3\n",
    "X3_train, X3_test, y_train, y_test = train_test_split(X3, y, test_size=0.2, random_state=42)\n",
    "\n",
    "# ✅ Train & Evaluate Model 3 (Linear)\n",
    "lin_reg3 = LinearRegression()\n",
    "lin_reg3.fit(X3_train, y_train)\n",
    "y_pred_lin3 = lin_reg3.predict(X3_test)\n",
    "\n",
    "r2_lin3 = lin_reg3.score(X3_test, y_test)\n",
    "mae_lin3 = mean_absolute_error(y_test, y_pred_lin3)\n",
    "mse_lin3 = mean_squared_error(y_test, y_pred_lin3)\n",
    "rmse_lin3 = np.sqrt(mse_lin3)\n",
    "\n",
    "print(f\"\\n📊 Feature Set 3 (Dropped Windspeed) - Linear Regression:\")\n",
    "print(f\"R²: {r2_lin3}\")\n",
    "print(f\"MAE: {mae_lin3}\")\n",
    "print(f\"MSE: {mse_lin3}\")\n",
    "print(f\"RMSE: {rmse_lin3}\")\n",
    "\n",
    "# ✅ Train & Evaluate Model 3 (Polynomial)\n",
    "scaler3 = StandardScaler()\n",
    "X3_train_scaled = scaler3.fit_transform(X3_train)\n",
    "X3_test_scaled = scaler3.transform(X3_test)\n",
    "\n",
    "poly3 = PolynomialFeatures(degree=2)\n",
    "X3_poly_train = poly3.fit_transform(X3_train_scaled)\n",
    "X3_poly_test = poly3.transform(X3_test_scaled)\n",
    "\n",
    "poly_reg3 = LinearRegression()\n",
    "poly_reg3.fit(X3_poly_train, y_train)\n",
    "y_pred_poly3 = poly_reg3.predict(X3_poly_test)\n",
    "\n",
    "r2_poly3 = poly_reg3.score(X3_poly_test, y_test)\n",
    "mae_poly3 = mean_absolute_error(y_test, y_pred_poly3)\n",
    "mse_poly3 = mean_squared_error(y_test, y_pred_poly3)\n",
    "rmse_poly3 = np.sqrt(mse_poly3)\n",
    "\n",
    "print(f\"\\n📊 Feature Set 3 (Dropped Windspeed) - Polynomial Regression:\")\n",
    "print(f\"R²: {r2_poly3}\")\n",
    "print(f\"MAE: {mae_poly3}\")\n",
    "print(f\"MSE: {mse_poly3}\")\n",
    "print(f\"RMSE: {rmse_poly3}\")\n"
   ]
  },
  {
   "cell_type": "code",
   "execution_count": 38,
   "metadata": {},
   "outputs": [
    {
     "name": "stdout",
     "output_type": "stream",
     "text": [
      "                   Feature Selection                  Model    R²     MAE  \\\n",
      "0       Feature Set 1 (All Features)      Linear Regression  0.56  167.57   \n",
      "1       Feature Set 1 (All Features)  Polynomial Regression  0.54  167.07   \n",
      "3   Feature Set 2 (Dropped Features)      Linear Regression  0.54  171.34   \n",
      "4   Feature Set 2 (Dropped Features)  Polynomial Regression  0.57  161.92   \n",
      "6  Feature Set 3 (Dropped Windspeed)      Linear Regression  0.55  168.59   \n",
      "7  Feature Set 3 (Dropped Windspeed)  Polynomial Regression  0.64  143.37   \n",
      "\n",
      "        MSE    RMSE  \n",
      "0  46777.91  216.28  \n",
      "1  49400.02  222.26  \n",
      "3  49506.49  222.50  \n",
      "4  46389.05  215.38  \n",
      "6  48377.70  219.95  \n",
      "7  38273.48  195.64  \n"
     ]
    }
   ],
   "source": [
    "# Round the values in the summary table to two decimal places\n",
    "summary_table = summary_table.round({'R²': 2, 'MAE': 2, 'MSE': 2, 'RMSE': 2})\n",
    "print(summary_table)\n"
   ]
  },
  {
   "cell_type": "code",
   "execution_count": 39,
   "metadata": {},
   "outputs": [
    {
     "data": {
      "text/html": [
       "<div>\n",
       "<style scoped>\n",
       "    .dataframe tbody tr th:only-of-type {\n",
       "        vertical-align: middle;\n",
       "    }\n",
       "\n",
       "    .dataframe tbody tr th {\n",
       "        vertical-align: top;\n",
       "    }\n",
       "\n",
       "    .dataframe thead th {\n",
       "        text-align: right;\n",
       "    }\n",
       "</style>\n",
       "<table border=\"1\" class=\"dataframe\">\n",
       "  <thead>\n",
       "    <tr style=\"text-align: right;\">\n",
       "      <th></th>\n",
       "      <th>Feature Selection</th>\n",
       "      <th>Model</th>\n",
       "      <th>R²</th>\n",
       "      <th>MAE</th>\n",
       "      <th>MSE</th>\n",
       "      <th>RMSE</th>\n",
       "    </tr>\n",
       "  </thead>\n",
       "  <tbody>\n",
       "    <tr>\n",
       "      <th>0</th>\n",
       "      <td>Feature Set 1 (All Features)</td>\n",
       "      <td>Linear Regression</td>\n",
       "      <td>0.56</td>\n",
       "      <td>167.57</td>\n",
       "      <td>46777.91</td>\n",
       "      <td>216.28</td>\n",
       "    </tr>\n",
       "    <tr>\n",
       "      <th>1</th>\n",
       "      <td>Feature Set 1 (All Features)</td>\n",
       "      <td>Polynomial Regression</td>\n",
       "      <td>0.54</td>\n",
       "      <td>167.07</td>\n",
       "      <td>49400.02</td>\n",
       "      <td>222.26</td>\n",
       "    </tr>\n",
       "    <tr>\n",
       "      <th>3</th>\n",
       "      <td>Feature Set 2 (Dropped Features)</td>\n",
       "      <td>Linear Regression</td>\n",
       "      <td>0.54</td>\n",
       "      <td>171.34</td>\n",
       "      <td>49506.49</td>\n",
       "      <td>222.50</td>\n",
       "    </tr>\n",
       "    <tr>\n",
       "      <th>4</th>\n",
       "      <td>Feature Set 2 (Dropped Features)</td>\n",
       "      <td>Polynomial Regression</td>\n",
       "      <td>0.57</td>\n",
       "      <td>161.92</td>\n",
       "      <td>46389.05</td>\n",
       "      <td>215.38</td>\n",
       "    </tr>\n",
       "    <tr>\n",
       "      <th>6</th>\n",
       "      <td>Feature Set 3 (Dropped Windspeed)</td>\n",
       "      <td>Linear Regression</td>\n",
       "      <td>0.55</td>\n",
       "      <td>168.59</td>\n",
       "      <td>48377.70</td>\n",
       "      <td>219.95</td>\n",
       "    </tr>\n",
       "    <tr>\n",
       "      <th>7</th>\n",
       "      <td>Feature Set 3 (Dropped Windspeed)</td>\n",
       "      <td>Polynomial Regression</td>\n",
       "      <td>0.64</td>\n",
       "      <td>143.37</td>\n",
       "      <td>38273.48</td>\n",
       "      <td>195.64</td>\n",
       "    </tr>\n",
       "  </tbody>\n",
       "</table>\n",
       "</div>"
      ],
      "text/plain": [
       "                   Feature Selection                  Model    R²     MAE  \\\n",
       "0       Feature Set 1 (All Features)      Linear Regression  0.56  167.57   \n",
       "1       Feature Set 1 (All Features)  Polynomial Regression  0.54  167.07   \n",
       "3   Feature Set 2 (Dropped Features)      Linear Regression  0.54  171.34   \n",
       "4   Feature Set 2 (Dropped Features)  Polynomial Regression  0.57  161.92   \n",
       "6  Feature Set 3 (Dropped Windspeed)      Linear Regression  0.55  168.59   \n",
       "7  Feature Set 3 (Dropped Windspeed)  Polynomial Regression  0.64  143.37   \n",
       "\n",
       "        MSE    RMSE  \n",
       "0  46777.91  216.28  \n",
       "1  49400.02  222.26  \n",
       "3  49506.49  222.50  \n",
       "4  46389.05  215.38  \n",
       "6  48377.70  219.95  \n",
       "7  38273.48  195.64  "
      ]
     },
     "execution_count": 39,
     "metadata": {},
     "output_type": "execute_result"
    }
   ],
   "source": [
    "summary_table"
   ]
  }
 ],
 "metadata": {
  "kernelspec": {
   "display_name": "base",
   "language": "python",
   "name": "python3"
  },
  "language_info": {
   "codemirror_mode": {
    "name": "ipython",
    "version": 3
   },
   "file_extension": ".py",
   "mimetype": "text/x-python",
   "name": "python",
   "nbconvert_exporter": "python",
   "pygments_lexer": "ipython3",
   "version": "3.12.7"
  }
 },
 "nbformat": 4,
 "nbformat_minor": 2
}
